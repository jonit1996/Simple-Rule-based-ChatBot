{
 "cells": [
  {
   "cell_type": "markdown",
   "metadata": {},
   "source": [
    "# Rule-Based Chatbot"
   ]
  },
  {
   "cell_type": "markdown",
   "metadata": {},
   "source": [
    "![title](chatterbot1_uy1uar.png)"
   ]
  },
  {
   "cell_type": "markdown",
   "metadata": {},
   "source": [
    "***What is a chatbot?***\n",
    "\n",
    "\n",
    "The term “chatterbot” came in existence in 1994 when Michael Mauldin created his first chatbot named “Julia”. As per the Oxford Dictionary, a chatbot is defined as “A computer program designed to simulate conversation with human users, especially over the internet.” It can be looked upon as a virtual assistant that communicates with users via text messages and helps businesses in getting close to their customers. It is a program designed to imitate the way humans communicate with each other. It can be done through a chat interface or by voice call. Developers usually design chatbots so that it is difficult to tell for users whether they are communicating with a person or a robot.\n",
    "\n",
    "**Chatbots helps any business/organization in accomplishing the following goals:**\n",
    "\n",
    "- Increases operational efficiency.\n",
    "- Automating customer request fulfillment.\n",
    "- Handling basic queries, which in turn free employees to work for complex & higher value inquiries.\n",
    "- Offers Multi-language support.\n",
    "- Saves time & effort by automating customer support.\n",
    "- Improves the response rate as well as customer engagement.\n",
    "- Personalization of communication"
   ]
  },
  {
   "cell_type": "markdown",
   "metadata": {},
   "source": [
    "***Rule-Based Chatbot:***\n",
    "This is the basic chatbot made, the user interacts with this kind of bot by using predefined options. To get answers from these bots, users need to click on certain options. These kinds of bots collect the user's request, analyze it, and then offer results in the form of buttons. These bots are commonly used to replace frequently asked questions when it comes to complex queries; they aren't always the best solution."
   ]
  },
  {
   "cell_type": "code",
   "execution_count": 1,
   "metadata": {},
   "outputs": [],
   "source": [
    "# Importing depandancies\n",
    "import random \n",
    "from textblob import TextBlob "
   ]
  },
  {
   "cell_type": "code",
   "execution_count": 2,
   "metadata": {},
   "outputs": [
    {
     "name": "stdout",
     "output_type": "stream",
     "text": [
      "Hello! dude what is your  name ?\n",
      "sheethal\n",
      "Do you have a nickname?\n",
      "yes\n",
      "what is your nickname?sheeetu\n",
      "Goood to meet yousheeetu\n",
      "Having a busy day sheeetu?\n",
      "yes\n",
      "Sorry to hear that !\n",
      "What is your take on Python?\n",
      "its the most intelligent object oriented programming\n",
      "OMG you really like Python\n",
      " and you are so biased\n",
      " i would like your opinion on NLP,Algoritham?\n",
      "sfsdfg\n",
      "Hmm thats really neutral \n",
      " and you are quait objective\n",
      "what do you feel about Data driven?\n",
      "sorrry i dont knoe\\w\n",
      "Hmm thats really neutral \n",
      " and you are quait objective\n",
      "Ok i'm board,I'll go and watch tv \n"
     ]
    }
   ],
   "source": [
    "# Asking some introduaction and reply \n",
    "\n",
    "print('Hello! dude what is your  name ?')\n",
    "name = input()\n",
    "print('Do you have a nickname?')\n",
    "ans = input()\n",
    "if 'y' in ans.lower():\n",
    "    nickname=input('what is your nickname?')\n",
    "    print('Goood to meet you'+ nickname)\n",
    "else:\n",
    "    nickname = name+name[-1]+'y'\n",
    "    print('I will call you '+ nickname)\n",
    "\n",
    "# Making some greetings\n",
    "\n",
    "greeting = ['How’s it going '+ nickname +'?',\n",
    "            'Hi, how are you '+ nickname +'?',\n",
    "            'How’s your day going '+ nickname +'?',\n",
    "            'Having a busy day '+ nickname +'?',\n",
    "            'How’s life '+ nickname +'?',\n",
    "            'How’s everything '+ nickname +'?']\n",
    "print(random.choice(greeting))\n",
    "ans=input()\n",
    "blob=TextBlob(ans)\n",
    "if blob.polarity>0:\n",
    "    print('Glad to see you are doing well')\n",
    "else:\n",
    "    print('Sorry to hear that !')\n",
    "    \n",
    "# Asking some random question based on random topic \n",
    "\n",
    "topics=['Data driven',\n",
    "       'Data science' ,\n",
    "       'NLP,Algoritham',\n",
    "       'Python']\n",
    "questions = ['What is your take on ',\n",
    "            'what do you think about ',\n",
    "            'what do you feel about ',\n",
    "            ' i would like your opinion on ']\n",
    "\n",
    "# Give response to the answers based on the polarity and subjectivity \n",
    "\n",
    "for i in range(0,random.randint(3,4)):    \n",
    "    topic=random.choice(topics)\n",
    "    topics.remove(topic)\n",
    "    question=random.choice(questions)\n",
    "    questions.remove(question)\n",
    "    print(question + topic +'?')\n",
    "    ans=input()\n",
    "    blob=TextBlob(ans)\n",
    "    if blob.polarity>0.5:\n",
    "        print('OMG you really like '+ topic)\n",
    "    elif blob.polarity>0.1:\n",
    "        print('OH you are well aware about '+ topic)\n",
    "    elif blob.polarity<-0.5:\n",
    "        print(\"Oops! you totally hate \"+ topic)\n",
    "    elif blob.polarity<-0.1:\n",
    "        print(\"SO you don't like \"+ topic)\n",
    "    else:\n",
    "        print(\"Hmm thats really neutral \" )\n",
    "    \n",
    "    if blob.subjectivity >0.6:\n",
    "        print(' and you are so biased')\n",
    "    elif blob.subjectivity >0.3:\n",
    "        print(' and you are a bit biased')\n",
    "    else:\n",
    "        print(' and you are quait objective')\n",
    "        \n",
    "# Say good bye \n",
    "\n",
    "goodbye = ['Good talking to you '+ nickname + ' I gotte go now',\n",
    "          \"Ok i'm board,I'll go and watch tv \",\n",
    "          'Bye Bye Ms Ammerica Pie , Im out! ',\n",
    "          'Yoow,I have to go now ',\n",
    "           'Catch you later  '+nickname]\n",
    "print(random.choice(goodbye))\n",
    "        "
   ]
  },
  {
   "cell_type": "code",
   "execution_count": null,
   "metadata": {},
   "outputs": [],
   "source": []
  }
 ],
 "metadata": {
  "kernelspec": {
   "display_name": "Python 3",
   "language": "python",
   "name": "python3"
  },
  "language_info": {
   "codemirror_mode": {
    "name": "ipython",
    "version": 3
   },
   "file_extension": ".py",
   "mimetype": "text/x-python",
   "name": "python",
   "nbconvert_exporter": "python",
   "pygments_lexer": "ipython3",
   "version": "3.7.3"
  }
 },
 "nbformat": 4,
 "nbformat_minor": 2
}
